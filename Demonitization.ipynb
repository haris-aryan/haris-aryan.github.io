{
 "cells": [
  {
   "cell_type": "markdown",
   "metadata": {},
   "source": [
    "# Demonetization"
   ]
  },
  {
   "cell_type": "markdown",
   "metadata": {},
   "source": [
    "Hello World !! This is my first Data Based Social Blog rather my first Blog   \n",
    "I am writing this for few reasons, one I am seeing lot of articles on internet/newspapers/TV that we are going digital with respect to financial transactions, yes if it happens I will be the happiest person but I just wanted to see the real story based on actual numbers. Two, I wanted to explore my recently learned Python skills. Third, Fourth, Fifth and so on.. \n",
    "\n",
    "\n",
    " <B> I will be mainly analysing NEFT and POS transactions data made available by RBI on onthly basis </B>\n",
    "\n",
    "In this blog I will be using couple of Python Data Science Libraries. For non-technical folks (if I get any readers :-)) I would suggest to just read the inferences in the bottom of the charts. Chart heading shows what data is being plotted.\n",
    "\n",
    "<B>Disclaimer</B>: I am not against any person or institution. I will be using publically available data published by RBI on NCPI website \"https://rbi.org.in\" and few news articles. All the calculations are rough in nature, so they have full right to be wrong. If you find any miscalculation, please do inform me, I would try to rectify it. I am using Python 2.7."
   ]
  },
  {
   "cell_type": "markdown",
   "metadata": {},
   "source": [
    "# Importing Libraries\n",
    "We will be using these libraries in our Data Analysis. A Super Quick intro to these libs:\n",
    "\n",
    "1. urllib/2 : This is used to scrape internet. You can probably use it for thousands of things over network but I will be using it to scrape RBI website and to programitically fetch the published data\n",
    "2. Pandas : Boss of all Data Analysis Libs. It offers a relational Table like Data Structure called as Data Frame which is super cool to slice and dice and do much more than what we can do via SQL\n",
    "3. numpy: Numerical Python - Muti dimensional Arrays, Vectors, Matrix, Statistics, Maths, Maths, Maths....\n",
    "4. Matplolib : This is Tableau of python :) This is data visualisation library like Matlab. It is very versatile and allows you to play with all type of charts\n",
    "5. DataTime: To hadle dates in python\n",
    "6. OS: For normal OS (Windows in my case) related operations\n",
    "7. BeautifuSoup: This is html parser which has lot of XML and HTML parsig commands handly"
   ]
  },
  {
   "cell_type": "code",
   "execution_count": 4,
   "metadata": {
    "collapsed": false
   },
   "outputs": [],
   "source": [
    "from urllib2 import urlopen,Request\n",
    "from bs4 import BeautifulSoup\n",
    "from pandas import DataFrame,Series\n",
    "import pandas as pd\n",
    "import numpy as np\n",
    "import matplotlib.pyplot as plt \n",
    "%matplotlib inline\n",
    "from datetime import datetime\n",
    "import os"
   ]
  },
  {
   "cell_type": "markdown",
   "metadata": {},
   "source": [
    "# Web Scraping\n",
    "\n",
    "Below is a simple hack which I haven't used nor I would recommend you to use it. Actually RBI has blocked programmatic access to its website and hence we need to morph our make name from Python-Urllib to \"Mozilla/5.0\".\n",
    "Since this is bit unethical to exploit this method, I would suggest you to go and fetch the excel files manually and store them all at one place. I am showing this option to teach you little bit of hacking :)\n",
    "\n",
    "These statements will fetch the HTML page content which we will later pass through BeatifulSoup to parse it and fetch direct links to XLS files "
   ]
  },
  {
   "cell_type": "code",
   "execution_count": 2,
   "metadata": {
    "collapsed": false
   },
   "outputs": [],
   "source": [
    "headers = { 'User-Agent' : 'Mozilla/5.0' }\n",
    "req = Request('https://rbi.org.in/scripts/NEFTView.aspx', None, headers)\n",
    "html = urlopen(req).read()"
   ]
  },
  {
   "cell_type": "code",
   "execution_count": 5,
   "metadata": {
    "collapsed": false
   },
   "outputs": [],
   "source": [
    "soup = BeautifulSoup(html,'html.parser')"
   ]
  },
  {
   "cell_type": "markdown",
   "metadata": {},
   "source": [
    "Fetch all the tables in a Python <B>List</B>.\n",
    "\n",
    "Later I am trying to show a Table Tag. Which is a HTML tag will all the xls and pdf files embedded"
   ]
  },
  {
   "cell_type": "code",
   "execution_count": 12,
   "metadata": {
    "collapsed": false,
    "scrolled": true
   },
   "outputs": [
    {
     "name": "stdout",
     "output_type": "stream",
     "text": [
      "<table align=\"center\" border=\"0\" cellpadding=\"0\" cellspacing=\"0\" width=\"100%\">\n",
      "<table class=\"tablebg\" width=\"100%\"><tr><td class=\"tableheader\" colspan=\"8\"><b>April - 2017</b></td></tr><tr><td style=\"word-wrap:break-word;width:450;\"><a class=\"link2\" href=\"NEFTUserView.aspx?Id=108\">Bankwise Volumes in ECS/NEFT/RTGS/Mobile Transactions - April 2017</a></td><td nowrap=\"\"><a href=\"http://rbidocs.rbi.org.in/rdocs/NEFT/DOCs/RTGS04201749644FE0AB69404993C622C3B00F3901.XLS\" target=\"_blank\"><img align=\"abs\n"
     ]
    }
   ],
   "source": [
    "tables = soup.findAll('table')\n",
    "print str(tables[0])[:500]"
   ]
  },
  {
   "cell_type": "markdown",
   "metadata": {},
   "source": [
    "Now  if we again run the same command \"FindAll\" on this tag and search for tags \"a\", we will find absolute path of XLS we are looking for. Below is one sample to show\n",
    "\n",
    "Later I have looped through this entire table tag and extracted the absoulte path for all XLS in a List"
   ]
  },
  {
   "cell_type": "code",
   "execution_count": 26,
   "metadata": {
    "collapsed": false,
    "scrolled": true
   },
   "outputs": [
    {
     "data": {
      "text/plain": [
       "u'http://rbidocs.rbi.org.in/rdocs/NEFT/DOCs/RTGS05042017FDE4E175397742479736425CCA92BB3A.XLS'"
      ]
     },
     "execution_count": 26,
     "metadata": {},
     "output_type": "execute_result"
    }
   ],
   "source": [
    "tables[0].findAll('a')[4]['href']"
   ]
  },
  {
   "cell_type": "code",
   "execution_count": 27,
   "metadata": {
    "collapsed": false
   },
   "outputs": [],
   "source": [
    "links = []\n",
    "for z in tables[0].findAll('a'):\n",
    "    [links.append(z['href']) if z['href'].endswith('XLS') else None]"
   ]
  },
  {
   "cell_type": "markdown",
   "metadata": {},
   "source": [
    "See here how \n",
    "1. I indexed a list to fetch first value\n",
    "2. Replaced http with https\n",
    "3.  Printed the URL for the first xls "
   ]
  },
  {
   "cell_type": "code",
   "execution_count": 28,
   "metadata": {
    "collapsed": false
   },
   "outputs": [
    {
     "name": "stdout",
     "output_type": "stream",
     "text": [
      "https://rbidocs.rbi.org.in/rdocs/NEFT/DOCs/RTGS04201749644FE0AB69404993C622C3B00F3901.XLS\n"
     ]
    }
   ],
   "source": [
    "sample_link = links[0]\n",
    "sample_link = sample_link.replace('http','https')\n",
    "print sample_link"
   ]
  },
  {
   "cell_type": "markdown",
   "metadata": {},
   "source": [
    "### Do Not Run This\n",
    "This is something which I am not going to execute nor would  recommend you to do. This will actuallt fetch the xls from NCPI website. I would recommend you to download the data files manually (which is leagally allowed).\n",
    "\n",
    "What I am doing here:\n",
    "\n",
    "1. Modifying the Header <B>Dict</B> to include more info on what to except in response\n",
    "2. Fetch the content of URL in variabe : filex\n",
    "3. Store filex as an XLS on my current working Directory"
   ]
  },
  {
   "cell_type": "code",
   "execution_count": 14,
   "metadata": {
    "collapsed": false
   },
   "outputs": [],
   "source": [
    "#hdr = {#I am puposefully removing the header info}\n",
    "#req = Request(sample_link,headers=hdr)\n",
    "#xls1 = urlopen(req)\n",
    "\n",
    "#filex = open('xls1.xls','wb')\n",
    "#filex.write(xls1.read())\n",
    "#filex.close()"
   ]
  },
  {
   "cell_type": "markdown",
   "metadata": {},
   "source": [
    "# Data Prepration\n",
    "\n",
    "Here I will first pick up one of the xls downloaded to see the sheets/tabs available. Later I will parse one of the Tabs to see the content and then extract the content of the required Tab in a DataFrame. Lets see if I need to do some Data Munging to convert this raw data to usable format"
   ]
  },
  {
   "cell_type": "code",
   "execution_count": 13,
   "metadata": {
    "collapsed": false
   },
   "outputs": [
    {
     "data": {
      "text/plain": [
       "[u'ECS', u'NEFT', u'RTGS', u'Mobile Banking']"
      ]
     },
     "execution_count": 13,
     "metadata": {},
     "output_type": "execute_result"
    }
   ],
   "source": [
    "xl = pd.ExcelFile('RTGS2712201660E74593E3F1499FAD16C14AEC8F29B1.XLS')\n",
    "xl.sheet_names"
   ]
  },
  {
   "cell_type": "markdown",
   "metadata": {},
   "source": [
    "## Lets Analyse NEFT first\n",
    "\n",
    "Now is time for me decide What all I would include in my Analysis. Even before starting this work I had a thought of analysing NEFT and POS transactions because these are 2 major digital transaction catagories used by mass. Since I can see NEFT data available in this Sheet, I will parse it to see the data structure. POS data is hosted on a different RBI link, so I will run a saperate anlalysis for that.\n",
    "\n",
    "To have a quick look at NEFT tab, I will prase it and do a head of that. Note that when I parse a sheet/tab in xls data is loaded in a <B>Pandas DataFrame</B>. I named it DF1 and then doing a head to see first 5 records."
   ]
  },
  {
   "cell_type": "code",
   "execution_count": 15,
   "metadata": {
    "collapsed": false
   },
   "outputs": [],
   "source": [
    "df1 = xl.parse('NEFT')"
   ]
  },
  {
   "cell_type": "code",
   "execution_count": 16,
   "metadata": {
    "collapsed": false,
    "scrolled": true
   },
   "outputs": [
    {
     "data": {
      "text/html": [
       "<div>\n",
       "<table border=\"1\" class=\"dataframe\">\n",
       "  <thead>\n",
       "    <tr style=\"text-align: right;\">\n",
       "      <th></th>\n",
       "      <th>Unnamed: 0</th>\n",
       "      <th>NATIONAL ELECTRONIC FUND TRANSFER (NEFT) - NOVEMBER 2016</th>\n",
       "      <th>Unnamed: 2</th>\n",
       "      <th>Unnamed: 3</th>\n",
       "      <th>Unnamed: 4</th>\n",
       "      <th>Unnamed: 5</th>\n",
       "      <th>Unnamed: 6</th>\n",
       "    </tr>\n",
       "  </thead>\n",
       "  <tbody>\n",
       "    <tr>\n",
       "      <th>0</th>\n",
       "      <td>NaN</td>\n",
       "      <td>Sr. No.</td>\n",
       "      <td>BANK</td>\n",
       "      <td>TOTAL OUTWARD DEBITS</td>\n",
       "      <td>NaN</td>\n",
       "      <td>RECEIVED INWARD CREDITS</td>\n",
       "      <td>NaN</td>\n",
       "    </tr>\n",
       "    <tr>\n",
       "      <th>1</th>\n",
       "      <td>NaN</td>\n",
       "      <td>NaN</td>\n",
       "      <td>NaN</td>\n",
       "      <td>NO. OF TRANSACTIONS</td>\n",
       "      <td>AMOUNT (Rs. Million)</td>\n",
       "      <td>NO. OF TRANSACTIONS</td>\n",
       "      <td>AMOUNT (Rs. Million)</td>\n",
       "    </tr>\n",
       "    <tr>\n",
       "      <th>2</th>\n",
       "      <td>NaN</td>\n",
       "      <td>1</td>\n",
       "      <td>ABHYUDAYA CO-OP BANK LTD</td>\n",
       "      <td>54567</td>\n",
       "      <td>2730.17</td>\n",
       "      <td>122321</td>\n",
       "      <td>4179.03</td>\n",
       "    </tr>\n",
       "    <tr>\n",
       "      <th>3</th>\n",
       "      <td>NaN</td>\n",
       "      <td>2</td>\n",
       "      <td>ABU DHABI COMMERCIAL BANK</td>\n",
       "      <td>2787</td>\n",
       "      <td>2034.91</td>\n",
       "      <td>680</td>\n",
       "      <td>363.773</td>\n",
       "    </tr>\n",
       "  </tbody>\n",
       "</table>\n",
       "</div>"
      ],
      "text/plain": [
       "   Unnamed: 0 NATIONAL ELECTRONIC FUND TRANSFER (NEFT) - NOVEMBER 2016  \\\n",
       "0         NaN                                            Sr. No.         \n",
       "1         NaN                                                NaN         \n",
       "2         NaN                                                  1         \n",
       "3         NaN                                                  2         \n",
       "\n",
       "                  Unnamed: 2            Unnamed: 3            Unnamed: 4  \\\n",
       "0                       BANK  TOTAL OUTWARD DEBITS                   NaN   \n",
       "1                        NaN   NO. OF TRANSACTIONS  AMOUNT (Rs. Million)   \n",
       "2   ABHYUDAYA CO-OP BANK LTD                 54567               2730.17   \n",
       "3  ABU DHABI COMMERCIAL BANK                  2787               2034.91   \n",
       "\n",
       "                Unnamed: 5            Unnamed: 6  \n",
       "0  RECEIVED INWARD CREDITS                   NaN  \n",
       "1      NO. OF TRANSACTIONS  AMOUNT (Rs. Million)  \n",
       "2                   122321               4179.03  \n",
       "3                      680               363.773  "
      ]
     },
     "execution_count": 16,
     "metadata": {},
     "output_type": "execute_result"
    }
   ],
   "source": [
    "df1.head(4)"
   ]
  },
  {
   "cell_type": "markdown",
   "metadata": {},
   "source": [
    "By Default, Parse will take first row as header But looking at the data I can see that Header is actually first 3 rows. \n",
    "\n",
    "Since pandas stores columns as an index, so it very easy to play with columns. \n",
    "We can create #hierarchical indices in pandas - for both row index and column index. Hierarchical index makes working with multilevel data really easy.\n",
    "\n",
    "Let us now extract the specific tab/sheet from the xls using more sophisticated Pandas tools - We will use read_excel. Note how I am making a hierarchal index by using 3 rows as header. I am excluding 2 last rows as they contain Totals etc. which I am not interested to have in my data set.\n",
    "\n",
    "#First I will quickly show how read_excel works and a high level view of Hierarchal Index\n"
   ]
  },
  {
   "cell_type": "code",
   "execution_count": 17,
   "metadata": {
    "collapsed": false,
    "scrolled": false
   },
   "outputs": [
    {
     "data": {
      "text/html": [
       "<div>\n",
       "<table border=\"1\" class=\"dataframe\">\n",
       "  <thead>\n",
       "    <tr>\n",
       "      <th></th>\n",
       "      <th colspan=\"6\" halign=\"left\">NATIONAL ELECTRONIC FUND TRANSFER (NEFT) - NOVEMBER 2016</th>\n",
       "    </tr>\n",
       "    <tr>\n",
       "      <th></th>\n",
       "      <th>Sr. No.</th>\n",
       "      <th>BANK</th>\n",
       "      <th colspan=\"2\" halign=\"left\">TOTAL OUTWARD DEBITS</th>\n",
       "      <th colspan=\"2\" halign=\"left\">RECEIVED INWARD CREDITS</th>\n",
       "    </tr>\n",
       "    <tr>\n",
       "      <th></th>\n",
       "      <th>Unnamed: 0_level_2</th>\n",
       "      <th>Unnamed: 1_level_2</th>\n",
       "      <th>NO. OF TRANSACTIONS</th>\n",
       "      <th>AMOUNT (Rs. Million)</th>\n",
       "      <th>NO. OF TRANSACTIONS</th>\n",
       "      <th>AMOUNT (Rs. Million)</th>\n",
       "    </tr>\n",
       "  </thead>\n",
       "  <tbody>\n",
       "    <tr>\n",
       "      <th>NaN</th>\n",
       "      <td>1</td>\n",
       "      <td>ABHYUDAYA CO-OP BANK LTD</td>\n",
       "      <td>54567</td>\n",
       "      <td>2730.171553</td>\n",
       "      <td>122321</td>\n",
       "      <td>4179.027111</td>\n",
       "    </tr>\n",
       "    <tr>\n",
       "      <th>NaN</th>\n",
       "      <td>2</td>\n",
       "      <td>ABU DHABI COMMERCIAL BANK</td>\n",
       "      <td>2787</td>\n",
       "      <td>2034.913361</td>\n",
       "      <td>680</td>\n",
       "      <td>363.773372</td>\n",
       "    </tr>\n",
       "    <tr>\n",
       "      <th>NaN</th>\n",
       "      <td>3</td>\n",
       "      <td>AHMEDABAD MERCANTILE COOP BANK</td>\n",
       "      <td>4883</td>\n",
       "      <td>432.110315</td>\n",
       "      <td>15176</td>\n",
       "      <td>830.842455</td>\n",
       "    </tr>\n",
       "  </tbody>\n",
       "</table>\n",
       "</div>"
      ],
      "text/plain": [
       "    NATIONAL ELECTRONIC FUND TRANSFER (NEFT) - NOVEMBER 2016  \\\n",
       "                                                     Sr. No.   \n",
       "                                          Unnamed: 0_level_2   \n",
       "NaN                                                  1         \n",
       "NaN                                                  2         \n",
       "NaN                                                  3         \n",
       "\n",
       "                                                                               \\\n",
       "                               BANK TOTAL OUTWARD DEBITS                        \n",
       "                 Unnamed: 1_level_2  NO. OF TRANSACTIONS AMOUNT (Rs. Million)   \n",
       "NaN        ABHYUDAYA CO-OP BANK LTD                54567          2730.171553   \n",
       "NaN       ABU DHABI COMMERCIAL BANK                 2787          2034.913361   \n",
       "NaN  AHMEDABAD MERCANTILE COOP BANK                 4883           432.110315   \n",
       "\n",
       "                                                  \n",
       "    RECEIVED INWARD CREDITS                       \n",
       "        NO. OF TRANSACTIONS AMOUNT (Rs. Million)  \n",
       "NaN                  122321          4179.027111  \n",
       "NaN                     680           363.773372  \n",
       "NaN                   15176           830.842455  "
      ]
     },
     "execution_count": 17,
     "metadata": {},
     "output_type": "execute_result"
    }
   ],
   "source": [
    "file = 'RTGS2712201660E74593E3F1499FAD16C14AEC8F29B1.XLS'\n",
    "df_temp = pd.read_excel(file,sheetname='NEFT',header=[1,2,3],skip_footer=2)\n",
    "df_temp.head(3)"
   ]
  },
  {
   "cell_type": "markdown",
   "metadata": {},
   "source": [
    "In the above DaatFrame, if you see the Index which is coming as NaN which is defined as \"Not a Number\" in pandas terms and is kind of equivelent to \"NULL\". \n",
    "\n",
    "Now we have 2 options here --> \n",
    "1. Use Pandas set_index function which I have used below\n",
    "2. Create an iterable (list/array) of same length and create that as Index\n",
    "\n",
    "We do have option of reading a column for eg 'Sr. No.' as index in read_excel method itself. Which would have been a bit tricky in this case due to Multilevel Column"
   ]
  },
  {
   "cell_type": "code",
   "execution_count": 85,
   "metadata": {
    "collapsed": false
   },
   "outputs": [
    {
     "data": {
      "text/html": [
       "<div>\n",
       "<table border=\"1\" class=\"dataframe\">\n",
       "  <thead>\n",
       "    <tr>\n",
       "      <th></th>\n",
       "      <th colspan=\"6\" halign=\"left\">NATIONAL ELECTRONIC FUND TRANSFER (NEFT) - NOVEMBER 2016</th>\n",
       "    </tr>\n",
       "    <tr>\n",
       "      <th></th>\n",
       "      <th>Sr. No.</th>\n",
       "      <th>BANK</th>\n",
       "      <th colspan=\"2\" halign=\"left\">TOTAL OUTWARD DEBITS</th>\n",
       "      <th colspan=\"2\" halign=\"left\">RECEIVED INWARD CREDITS</th>\n",
       "    </tr>\n",
       "    <tr>\n",
       "      <th></th>\n",
       "      <th>Unnamed: 0_level_2</th>\n",
       "      <th>Unnamed: 1_level_2</th>\n",
       "      <th>NO. OF TRANSACTIONS</th>\n",
       "      <th>AMOUNT (Rs. Million)</th>\n",
       "      <th>NO. OF TRANSACTIONS</th>\n",
       "      <th>AMOUNT (Rs. Million)</th>\n",
       "    </tr>\n",
       "  </thead>\n",
       "  <tbody>\n",
       "    <tr>\n",
       "      <th>1</th>\n",
       "      <td>1</td>\n",
       "      <td>ABHYUDAYA CO-OP BANK LTD</td>\n",
       "      <td>54567</td>\n",
       "      <td>2730.171553</td>\n",
       "      <td>122321</td>\n",
       "      <td>4179.027111</td>\n",
       "    </tr>\n",
       "    <tr>\n",
       "      <th>2</th>\n",
       "      <td>2</td>\n",
       "      <td>ABU DHABI COMMERCIAL BANK</td>\n",
       "      <td>2787</td>\n",
       "      <td>2034.913361</td>\n",
       "      <td>680</td>\n",
       "      <td>363.773372</td>\n",
       "    </tr>\n",
       "    <tr>\n",
       "      <th>3</th>\n",
       "      <td>3</td>\n",
       "      <td>AHMEDABAD MERCANTILE COOP BANK</td>\n",
       "      <td>4883</td>\n",
       "      <td>432.110315</td>\n",
       "      <td>15176</td>\n",
       "      <td>830.842455</td>\n",
       "    </tr>\n",
       "    <tr>\n",
       "      <th>4</th>\n",
       "      <td>4</td>\n",
       "      <td>AIRTEL PAYMENTS BANK LIMITED</td>\n",
       "      <td>19</td>\n",
       "      <td>0.877849</td>\n",
       "      <td>36</td>\n",
       "      <td>0.008893</td>\n",
       "    </tr>\n",
       "    <tr>\n",
       "      <th>5</th>\n",
       "      <td>5</td>\n",
       "      <td>AKOLA DISTRICT CENTRAL CO-OP BANK</td>\n",
       "      <td>6482</td>\n",
       "      <td>401.748515</td>\n",
       "      <td>3837</td>\n",
       "      <td>125.596445</td>\n",
       "    </tr>\n",
       "  </tbody>\n",
       "</table>\n",
       "</div>"
      ],
      "text/plain": [
       "  NATIONAL ELECTRONIC FUND TRANSFER (NEFT) - NOVEMBER 2016  \\\n",
       "                                                   Sr. No.   \n",
       "                                        Unnamed: 0_level_2   \n",
       "1                                                  1         \n",
       "2                                                  2         \n",
       "3                                                  3         \n",
       "4                                                  4         \n",
       "5                                                  5         \n",
       "\n",
       "                                                           \\\n",
       "                                BANK TOTAL OUTWARD DEBITS   \n",
       "                  Unnamed: 1_level_2  NO. OF TRANSACTIONS   \n",
       "1           ABHYUDAYA CO-OP BANK LTD                54567   \n",
       "2          ABU DHABI COMMERCIAL BANK                 2787   \n",
       "3     AHMEDABAD MERCANTILE COOP BANK                 4883   \n",
       "4       AIRTEL PAYMENTS BANK LIMITED                   19   \n",
       "5  AKOLA DISTRICT CENTRAL CO-OP BANK                 6482   \n",
       "\n",
       "                                                                     \n",
       "                       RECEIVED INWARD CREDITS                       \n",
       "  AMOUNT (Rs. Million)     NO. OF TRANSACTIONS AMOUNT (Rs. Million)  \n",
       "1          2730.171553                  122321          4179.027111  \n",
       "2          2034.913361                     680           363.773372  \n",
       "3           432.110315                   15176           830.842455  \n",
       "4             0.877849                      36             0.008893  \n",
       "5           401.748515                    3837           125.596445  "
      ]
     },
     "execution_count": 85,
     "metadata": {},
     "output_type": "execute_result"
    }
   ],
   "source": [
    "_ = df_temp.set_index(df_temp.ix[:,df_temp.columns.get_level_values(1)=='Sr. No.'].values,inplace=True)\n",
    "df_temp.head()"
   ]
  },
  {
   "cell_type": "markdown",
   "metadata": {},
   "source": [
    "### Hierarchal Columns\n",
    "\n",
    "Now to have a glimpse of hierarchical columns. First command shows us the column Index which is a MultiIndex created at 3 levels like this: \n",
    "\n",
    "levels = [[level0],[level1],[level2]]. Later I am showing you 3 levels separately"
   ]
  },
  {
   "cell_type": "code",
   "execution_count": 5,
   "metadata": {
    "collapsed": false
   },
   "outputs": [
    {
     "name": "stdout",
     "output_type": "stream",
     "text": [
      "MultiIndex(levels=[[u'NATIONAL ELECTRONIC FUND TRANSFER (NEFT) - NOVEMBER 2016'], [u'BANK', u'RECEIVED INWARD CREDITS', u'Sr. No.', u'TOTAL OUTWARD DEBITS'], [u'AMOUNT (Rs. Million)', u'NO. OF TRANSACTIONS', u'Unnamed: 0_level_2', u'Unnamed: 1_level_2']],\n",
      "           labels=[[0, 0, 0, 0, 0, 0], [2, 0, 3, 3, 1, 1], [2, 3, 1, 0, 1, 0]])\n"
     ]
    }
   ],
   "source": [
    "print df_temp.columns"
   ]
  },
  {
   "cell_type": "code",
   "execution_count": 8,
   "metadata": {
    "collapsed": false
   },
   "outputs": [
    {
     "name": "stdout",
     "output_type": "stream",
     "text": [
      "Level 1: Index([u'NATIONAL ELECTRONIC FUND TRANSFER (NEFT) - NOVEMBER 2016'], dtype='object')\n",
      "Level 2: Index([u'BANK', u'RECEIVED INWARD CREDITS', u'Sr. No.',\n",
      "       u'TOTAL OUTWARD DEBITS'],\n",
      "      dtype='object')\n",
      "Level 3: Index([u'AMOUNT (Rs. Million)',  u'NO. OF TRANSACTIONS',\n",
      "         u'Unnamed: 0_level_2',   u'Unnamed: 1_level_2'],\n",
      "      dtype='object')\n"
     ]
    }
   ],
   "source": [
    "print 'Level 1:',df_temp.columns.levels[0]\n",
    "print 'Level 2:',df_temp.columns.levels[1]\n",
    "print 'Level 3:',df_temp.columns.levels[2]"
   ]
  },
  {
   "cell_type": "markdown",
   "metadata": {
    "collapsed": true
   },
   "source": [
    "## Get All Months in One DataFrame\n",
    "\n",
    "Here I will iterate through all the XLS files we have at this location and merge all the DataFrames together. Note where we will be using concat function to stich the DataFrames on axis = 0, which is like \"Union All\" in case of SQL. \n",
    "I will also be changing 3 level columns to one level as we don't need hierarchial Index."
   ]
  },
  {
   "cell_type": "code",
   "execution_count": 18,
   "metadata": {
    "collapsed": false
   },
   "outputs": [],
   "source": [
    "y = list()\n",
    "for x in os.listdir(os.getcwd()):\n",
    "    if x.endswith('XLS'):\n",
    "        y.append(x)"
   ]
  },
  {
   "cell_type": "markdown",
   "metadata": {},
   "source": [
    "Create a List of all the files that end with XLS at the current location. Later I am iterataing over this list and creating another list of DataFrames. Each data frame is the data loaded from NEFT tab of the XLS using the same commands we have seen earlier"
   ]
  },
  {
   "cell_type": "code",
   "execution_count": 19,
   "metadata": {
    "collapsed": false
   },
   "outputs": [],
   "source": [
    "df_list = list()\n",
    "for file in y:\n",
    "    try:\n",
    "        df_list.append(pd.read_excel(file,sheetname='NEFT',header=[1,2,3],skip_footer=2,index=range(90)))\n",
    "    except:\n",
    "        print file"
   ]
  },
  {
   "cell_type": "markdown",
   "metadata": {},
   "source": [
    "get_cols is a function being created to convert multilevel column to single level columns. Note the use of \"Date\" which will be understood better once you see the next function get_date_df. \n",
    "\n",
    "In function get_date_df, I will be extracting date from the header of each xls. See the head command above to see the level:0 of the columns. This is what I will be using to get the date of the xls. \n",
    "\n",
    "Since RBI publishes monthly data, we will be having each xls/now DataFrame in our case for one month. I have dowloaded data from Oct-2015 to complete the Analysis. \n",
    "\n",
    "Why Oct-2015 ? \n",
    "So that I can compare QoQ growth between 2016-Q3 and 2016-Q4 with QoQ growth between 2017-Q3 and 2017-Q4 with "
   ]
  },
  {
   "cell_type": "code",
   "execution_count": 21,
   "metadata": {
    "collapsed": false
   },
   "outputs": [],
   "source": [
    "def get_cols(df):\n",
    "    cols_list = list()\n",
    "    for  x,y,z in df.columns.tolist():    \n",
    "        if x.startswith('Date'):\n",
    "            cols_list.append(' '.join(x.split()))\n",
    "        else:\n",
    "            if z.startswith('Un'):\n",
    "                cols_list.append(' '.join(y.split()))\n",
    "            else:\n",
    "                cols_list.append(' '.join(y.split())+' '+' '.join(z.split()))\n",
    "    return cols_list"
   ]
  },
  {
   "cell_type": "code",
   "execution_count": 22,
   "metadata": {
    "collapsed": false,
    "scrolled": true
   },
   "outputs": [],
   "source": [
    "def get_date_df(dfx):\n",
    "    date_str = dfx.columns.values[0][0][dfx.columns.values[0][0].index('-')+2:]\n",
    "    if date_str.index(' ') == 3:\n",
    "        dfx['Date']=datetime.strptime(dfx.columns.values[0][0][dfx.columns.values[0][0].index('-')+2:],'%b %Y')\n",
    "        dfx.columns = get_cols(dfx)\n",
    "    else:\n",
    "        dfx['Date']=datetime.strptime(dfx.columns.values[0][0][dfx.columns.values[0][0].index('-')+2:],'%B %Y')\n",
    "        dfx.columns = get_cols(dfx)\n",
    "    return dfx"
   ]
  },
  {
   "cell_type": "markdown",
   "metadata": {},
   "source": [
    "Here I am doing the \"Union All\" part. I am stiching all the DataFrames in the list which I created 2 Steps back. I am calling the function created in above steps on each of DF (DataFrame) to \n",
    "\n",
    "1. Get the corresponding Date in Date Column\n",
    "2. Convent Multilevel column to Single level column"
   ]
  },
  {
   "cell_type": "code",
   "execution_count": 23,
   "metadata": {
    "collapsed": false,
    "scrolled": true
   },
   "outputs": [],
   "source": [
    "for x,df in enumerate(df_list):\n",
    "    if x == 0:\n",
    "        master_df = get_date_df(df)       \n",
    "    else:\n",
    "        master_df = pd.concat([master_df,get_date_df(df)])        "
   ]
  },
  {
   "cell_type": "markdown",
   "metadata": {},
   "source": [
    "## > master_df is the consolidated Data Set for Analysis"
   ]
  },
  {
   "cell_type": "code",
   "execution_count": 25,
   "metadata": {
    "collapsed": false
   },
   "outputs": [
    {
     "data": {
      "text/html": [
       "<div>\n",
       "<table border=\"1\" class=\"dataframe\">\n",
       "  <thead>\n",
       "    <tr style=\"text-align: right;\">\n",
       "      <th></th>\n",
       "      <th>Sr. No.</th>\n",
       "      <th>BANK</th>\n",
       "      <th>TOTAL OUTWARD DEBITS NO. OF TRANSACTIONS</th>\n",
       "      <th>TOTAL OUTWARD DEBITS AMOUNT (Rs. Million)</th>\n",
       "      <th>RECEIVED INWARD CREDITS NO. OF TRANSACTIONS</th>\n",
       "      <th>RECEIVED INWARD CREDITS AMOUNT (Rs. Million)</th>\n",
       "      <th>Date</th>\n",
       "    </tr>\n",
       "  </thead>\n",
       "  <tbody>\n",
       "    <tr>\n",
       "      <th>NaN</th>\n",
       "      <td>157</td>\n",
       "      <td>UCO BANK</td>\n",
       "      <td>527404</td>\n",
       "      <td>36130.335146</td>\n",
       "      <td>1765721</td>\n",
       "      <td>56873.470988</td>\n",
       "      <td>2015-10-01</td>\n",
       "    </tr>\n",
       "    <tr>\n",
       "      <th>NaN</th>\n",
       "      <td>99</td>\n",
       "      <td>NAINITAL BANK LTD</td>\n",
       "      <td>17144</td>\n",
       "      <td>1266.926464</td>\n",
       "      <td>33937</td>\n",
       "      <td>2682.661663</td>\n",
       "      <td>2016-08-01</td>\n",
       "    </tr>\n",
       "    <tr>\n",
       "      <th>NaN</th>\n",
       "      <td>63</td>\n",
       "      <td>INDUSTRIAL AND COM BANK OF CHINA LT</td>\n",
       "      <td>150</td>\n",
       "      <td>87.292661</td>\n",
       "      <td>51</td>\n",
       "      <td>325.328915</td>\n",
       "      <td>2015-10-01</td>\n",
       "    </tr>\n",
       "  </tbody>\n",
       "</table>\n",
       "</div>"
      ],
      "text/plain": [
       "     Sr. No.                                 BANK  \\\n",
       "NaN      157                             UCO BANK   \n",
       "NaN       99                    NAINITAL BANK LTD   \n",
       "NaN       63  INDUSTRIAL AND COM BANK OF CHINA LT   \n",
       "\n",
       "     TOTAL OUTWARD DEBITS NO. OF TRANSACTIONS  \\\n",
       "NaN                                    527404   \n",
       "NaN                                     17144   \n",
       "NaN                                       150   \n",
       "\n",
       "     TOTAL OUTWARD DEBITS AMOUNT (Rs. Million)  \\\n",
       "NaN                               36130.335146   \n",
       "NaN                                1266.926464   \n",
       "NaN                                  87.292661   \n",
       "\n",
       "     RECEIVED INWARD CREDITS NO. OF TRANSACTIONS  \\\n",
       "NaN                                      1765721   \n",
       "NaN                                        33937   \n",
       "NaN                                           51   \n",
       "\n",
       "     RECEIVED INWARD CREDITS AMOUNT (Rs. Million)       Date  \n",
       "NaN                                  56873.470988 2015-10-01  \n",
       "NaN                                   2682.661663 2016-08-01  \n",
       "NaN                                    325.328915 2015-10-01  "
      ]
     },
     "execution_count": 25,
     "metadata": {},
     "output_type": "execute_result"
    }
   ],
   "source": [
    "master_df.sample(3)"
   ]
  },
  {
   "cell_type": "code",
   "execution_count": 26,
   "metadata": {
    "collapsed": false,
    "scrolled": false
   },
   "outputs": [
    {
     "data": {
      "text/html": [
       "<div>\n",
       "<table border=\"1\" class=\"dataframe\">\n",
       "  <thead>\n",
       "    <tr style=\"text-align: right;\">\n",
       "      <th></th>\n",
       "      <th>Sr. No.</th>\n",
       "      <th>TOTAL OUTWARD DEBITS NO. OF TRANSACTIONS</th>\n",
       "      <th>TOTAL OUTWARD DEBITS AMOUNT (Rs. Million)</th>\n",
       "      <th>RECEIVED INWARD CREDITS NO. OF TRANSACTIONS</th>\n",
       "      <th>RECEIVED INWARD CREDITS AMOUNT (Rs. Million)</th>\n",
       "    </tr>\n",
       "  </thead>\n",
       "  <tbody>\n",
       "    <tr>\n",
       "      <th>count</th>\n",
       "      <td>3120.000000</td>\n",
       "      <td>3.120000e+03</td>\n",
       "      <td>3.120000e+03</td>\n",
       "      <td>3.120000e+03</td>\n",
       "      <td>3.120000e+03</td>\n",
       "    </tr>\n",
       "    <tr>\n",
       "      <th>mean</th>\n",
       "      <td>87.234295</td>\n",
       "      <td>7.416333e+05</td>\n",
       "      <td>5.323895e+04</td>\n",
       "      <td>7.416333e+05</td>\n",
       "      <td>5.323895e+04</td>\n",
       "    </tr>\n",
       "    <tr>\n",
       "      <th>std</th>\n",
       "      <td>50.162071</td>\n",
       "      <td>2.490754e+06</td>\n",
       "      <td>1.738250e+05</td>\n",
       "      <td>2.386945e+06</td>\n",
       "      <td>1.680462e+05</td>\n",
       "    </tr>\n",
       "    <tr>\n",
       "      <th>min</th>\n",
       "      <td>1.000000</td>\n",
       "      <td>0.000000e+00</td>\n",
       "      <td>0.000000e+00</td>\n",
       "      <td>0.000000e+00</td>\n",
       "      <td>0.000000e+00</td>\n",
       "    </tr>\n",
       "    <tr>\n",
       "      <th>25%</th>\n",
       "      <td>44.000000</td>\n",
       "      <td>3.426500e+03</td>\n",
       "      <td>3.620696e+02</td>\n",
       "      <td>3.835250e+03</td>\n",
       "      <td>4.438536e+02</td>\n",
       "    </tr>\n",
       "    <tr>\n",
       "      <th>50%</th>\n",
       "      <td>87.000000</td>\n",
       "      <td>1.283000e+04</td>\n",
       "      <td>1.415938e+03</td>\n",
       "      <td>1.916600e+04</td>\n",
       "      <td>1.816643e+03</td>\n",
       "    </tr>\n",
       "    <tr>\n",
       "      <th>75%</th>\n",
       "      <td>130.250000</td>\n",
       "      <td>3.092140e+05</td>\n",
       "      <td>2.702287e+04</td>\n",
       "      <td>2.978948e+05</td>\n",
       "      <td>2.892544e+04</td>\n",
       "    </tr>\n",
       "    <tr>\n",
       "      <th>max</th>\n",
       "      <td>184.000000</td>\n",
       "      <td>2.962411e+07</td>\n",
       "      <td>2.425620e+06</td>\n",
       "      <td>3.552038e+07</td>\n",
       "      <td>2.398490e+06</td>\n",
       "    </tr>\n",
       "  </tbody>\n",
       "</table>\n",
       "</div>"
      ],
      "text/plain": [
       "           Sr. No.  TOTAL OUTWARD DEBITS NO. OF TRANSACTIONS  \\\n",
       "count  3120.000000                              3.120000e+03   \n",
       "mean     87.234295                              7.416333e+05   \n",
       "std      50.162071                              2.490754e+06   \n",
       "min       1.000000                              0.000000e+00   \n",
       "25%      44.000000                              3.426500e+03   \n",
       "50%      87.000000                              1.283000e+04   \n",
       "75%     130.250000                              3.092140e+05   \n",
       "max     184.000000                              2.962411e+07   \n",
       "\n",
       "       TOTAL OUTWARD DEBITS AMOUNT (Rs. Million)  \\\n",
       "count                               3.120000e+03   \n",
       "mean                                5.323895e+04   \n",
       "std                                 1.738250e+05   \n",
       "min                                 0.000000e+00   \n",
       "25%                                 3.620696e+02   \n",
       "50%                                 1.415938e+03   \n",
       "75%                                 2.702287e+04   \n",
       "max                                 2.425620e+06   \n",
       "\n",
       "       RECEIVED INWARD CREDITS NO. OF TRANSACTIONS  \\\n",
       "count                                 3.120000e+03   \n",
       "mean                                  7.416333e+05   \n",
       "std                                   2.386945e+06   \n",
       "min                                   0.000000e+00   \n",
       "25%                                   3.835250e+03   \n",
       "50%                                   1.916600e+04   \n",
       "75%                                   2.978948e+05   \n",
       "max                                   3.552038e+07   \n",
       "\n",
       "       RECEIVED INWARD CREDITS AMOUNT (Rs. Million)  \n",
       "count                                  3.120000e+03  \n",
       "mean                                   5.323895e+04  \n",
       "std                                    1.680462e+05  \n",
       "min                                    0.000000e+00  \n",
       "25%                                    4.438536e+02  \n",
       "50%                                    1.816643e+03  \n",
       "75%                                    2.892544e+04  \n",
       "max                                    2.398490e+06  "
      ]
     },
     "execution_count": 26,
     "metadata": {},
     "output_type": "execute_result"
    }
   ],
   "source": [
    "master_df.describe()"
   ]
  },
  {
   "cell_type": "markdown",
   "metadata": {},
   "source": [
    "Describe is another very usable feature of Pandas DataFrames. It gives all the basic stats for numeric columns. \n",
    "\n",
    "Below is a glimpse of \"where\" clause or filtering in pandas DF. We can do multiple ways of filtering on rows and columns and multiple functions for that like - ix, iloc, loc or the Simple way I have explained below to filter on \n",
    "Aug-2016 data. \n",
    "\n",
    "Also note the column names now are much usable and simple. I have still not fixed my Index which I will do later when I would use it !!"
   ]
  },
  {
   "cell_type": "code",
   "execution_count": 27,
   "metadata": {
    "collapsed": false,
    "scrolled": true
   },
   "outputs": [
    {
     "data": {
      "text/html": [
       "<div>\n",
       "<table border=\"1\" class=\"dataframe\">\n",
       "  <thead>\n",
       "    <tr style=\"text-align: right;\">\n",
       "      <th></th>\n",
       "      <th>Sr. No.</th>\n",
       "      <th>BANK</th>\n",
       "      <th>TOTAL OUTWARD DEBITS NO. OF TRANSACTIONS</th>\n",
       "      <th>TOTAL OUTWARD DEBITS AMOUNT (Rs. Million)</th>\n",
       "      <th>RECEIVED INWARD CREDITS NO. OF TRANSACTIONS</th>\n",
       "      <th>RECEIVED INWARD CREDITS AMOUNT (Rs. Million)</th>\n",
       "      <th>Date</th>\n",
       "    </tr>\n",
       "  </thead>\n",
       "  <tbody>\n",
       "    <tr>\n",
       "      <th>NaN</th>\n",
       "      <td>94</td>\n",
       "      <td>MASHREQ BANK</td>\n",
       "      <td>304</td>\n",
       "      <td>184.291006</td>\n",
       "      <td>34</td>\n",
       "      <td>4.406208</td>\n",
       "      <td>2016-10-01</td>\n",
       "    </tr>\n",
       "    <tr>\n",
       "      <th>NaN</th>\n",
       "      <td>143</td>\n",
       "      <td>SUTEX COOP BANK</td>\n",
       "      <td>3427</td>\n",
       "      <td>231.691878</td>\n",
       "      <td>8598</td>\n",
       "      <td>509.008875</td>\n",
       "      <td>2016-10-01</td>\n",
       "    </tr>\n",
       "    <tr>\n",
       "      <th>NaN</th>\n",
       "      <td>154</td>\n",
       "      <td>THE KANGRA CENTRAL COOP BANK LTD</td>\n",
       "      <td>19555</td>\n",
       "      <td>749.628801</td>\n",
       "      <td>27303</td>\n",
       "      <td>1197.956404</td>\n",
       "      <td>2016-10-01</td>\n",
       "    </tr>\n",
       "    <tr>\n",
       "      <th>NaN</th>\n",
       "      <td>165</td>\n",
       "      <td>The Gadchiroli Dist Co-Op Bank</td>\n",
       "      <td>3366</td>\n",
       "      <td>73.319838</td>\n",
       "      <td>17822</td>\n",
       "      <td>379.678560</td>\n",
       "      <td>2016-10-01</td>\n",
       "    </tr>\n",
       "  </tbody>\n",
       "</table>\n",
       "</div>"
      ],
      "text/plain": [
       "     Sr. No.                              BANK  \\\n",
       "NaN       94                      MASHREQ BANK   \n",
       "NaN      143                   SUTEX COOP BANK   \n",
       "NaN      154  THE KANGRA CENTRAL COOP BANK LTD   \n",
       "NaN      165    The Gadchiroli Dist Co-Op Bank   \n",
       "\n",
       "     TOTAL OUTWARD DEBITS NO. OF TRANSACTIONS  \\\n",
       "NaN                                       304   \n",
       "NaN                                      3427   \n",
       "NaN                                     19555   \n",
       "NaN                                      3366   \n",
       "\n",
       "     TOTAL OUTWARD DEBITS AMOUNT (Rs. Million)  \\\n",
       "NaN                                 184.291006   \n",
       "NaN                                 231.691878   \n",
       "NaN                                 749.628801   \n",
       "NaN                                  73.319838   \n",
       "\n",
       "     RECEIVED INWARD CREDITS NO. OF TRANSACTIONS  \\\n",
       "NaN                                           34   \n",
       "NaN                                         8598   \n",
       "NaN                                        27303   \n",
       "NaN                                        17822   \n",
       "\n",
       "     RECEIVED INWARD CREDITS AMOUNT (Rs. Million)       Date  \n",
       "NaN                                      4.406208 2016-10-01  \n",
       "NaN                                    509.008875 2016-10-01  \n",
       "NaN                                   1197.956404 2016-10-01  \n",
       "NaN                                    379.678560 2016-10-01  "
      ]
     },
     "execution_count": 27,
     "metadata": {},
     "output_type": "execute_result"
    }
   ],
   "source": [
    "master_df[master_df['Date']=='10/2016'].sample(4)"
   ]
  },
  {
   "cell_type": "markdown",
   "metadata": {},
   "source": [
    "## Analysis 1: MoM/QoQ Aggregated NEFT Transactions \n",
    "\n",
    "Here I would be aggregating (sum) of all NEFT transactions by value (Rs) on monthly basis. This is for all the banks hence all NEFT transactions in India in that month\n",
    "\n",
    "In first step I am doing a groupby on Date(which is monthly in this case) and aggregating 2 required columns - \n",
    "            Total Debit Txns and Total Credit Txns\n",
    "on monthly basis for all the banks and Results are loaded in a new DF named - grpd1\n",
    "\n",
    "In second step, I am summing both of these columns and adding it as a new column in existing DF \n",
    "\n",
    "In third step I am calculating \"% change\". There is another very simple way to calculate \"% change\" using pct_change() function but I have preferred using shift command which works like \"Lead/Lag\" in SQL. pct_change and thousands of other functions in pandas and numpy makes our life simple"
   ]
  },
  {
   "cell_type": "code",
   "execution_count": 28,
   "metadata": {
    "collapsed": false
   },
   "outputs": [],
   "source": [
    "grpd1 = master_df.fillna(0).groupby('Date')\\\n",
    "            ['TOTAL OUTWARD DEBITS AMOUNT (Rs. Million)','RECEIVED INWARD CREDITS AMOUNT (Rs. Million)']\\\n",
    "                            .sum()"
   ]
  },
  {
   "cell_type": "code",
   "execution_count": 29,
   "metadata": {
    "collapsed": false,
    "scrolled": true
   },
   "outputs": [
    {
     "data": {
      "text/html": [
       "<div>\n",
       "<table border=\"1\" class=\"dataframe\">\n",
       "  <thead>\n",
       "    <tr style=\"text-align: right;\">\n",
       "      <th></th>\n",
       "      <th>TOTAL OUTWARD DEBITS AMOUNT (Rs. Million)</th>\n",
       "      <th>RECEIVED INWARD CREDITS AMOUNT (Rs. Million)</th>\n",
       "    </tr>\n",
       "    <tr>\n",
       "      <th>Date</th>\n",
       "      <th></th>\n",
       "      <th></th>\n",
       "    </tr>\n",
       "  </thead>\n",
       "  <tbody>\n",
       "    <tr>\n",
       "      <th>2015-10-01</th>\n",
       "      <td>6.906880e+06</td>\n",
       "      <td>6.906880e+06</td>\n",
       "    </tr>\n",
       "    <tr>\n",
       "      <th>2015-11-01</th>\n",
       "      <td>6.370162e+06</td>\n",
       "      <td>6.370162e+06</td>\n",
       "    </tr>\n",
       "  </tbody>\n",
       "</table>\n",
       "</div>"
      ],
      "text/plain": [
       "            TOTAL OUTWARD DEBITS AMOUNT (Rs. Million)  \\\n",
       "Date                                                    \n",
       "2015-10-01                               6.906880e+06   \n",
       "2015-11-01                               6.370162e+06   \n",
       "\n",
       "            RECEIVED INWARD CREDITS AMOUNT (Rs. Million)  \n",
       "Date                                                      \n",
       "2015-10-01                                  6.906880e+06  \n",
       "2015-11-01                                  6.370162e+06  "
      ]
     },
     "execution_count": 29,
     "metadata": {},
     "output_type": "execute_result"
    }
   ],
   "source": [
    "grpd1.head(2)"
   ]
  },
  {
   "cell_type": "markdown",
   "metadata": {},
   "source": [
    "Note that after doing groupby my Index has changed to DateTime."
   ]
  },
  {
   "cell_type": "code",
   "execution_count": 30,
   "metadata": {
    "collapsed": false
   },
   "outputs": [
    {
     "data": {
      "text/html": [
       "<div>\n",
       "<table border=\"1\" class=\"dataframe\">\n",
       "  <thead>\n",
       "    <tr style=\"text-align: right;\">\n",
       "      <th></th>\n",
       "      <th>TOTAL OUTWARD DEBITS AMOUNT (Rs. Million)</th>\n",
       "      <th>RECEIVED INWARD CREDITS AMOUNT (Rs. Million)</th>\n",
       "      <th>Total Credt + Debit</th>\n",
       "    </tr>\n",
       "    <tr>\n",
       "      <th>Date</th>\n",
       "      <th></th>\n",
       "      <th></th>\n",
       "      <th></th>\n",
       "    </tr>\n",
       "  </thead>\n",
       "  <tbody>\n",
       "    <tr>\n",
       "      <th>2015-10-01</th>\n",
       "      <td>6.906880e+06</td>\n",
       "      <td>6.906880e+06</td>\n",
       "      <td>1.381376e+07</td>\n",
       "    </tr>\n",
       "    <tr>\n",
       "      <th>2015-11-01</th>\n",
       "      <td>6.370162e+06</td>\n",
       "      <td>6.370162e+06</td>\n",
       "      <td>1.274032e+07</td>\n",
       "    </tr>\n",
       "  </tbody>\n",
       "</table>\n",
       "</div>"
      ],
      "text/plain": [
       "            TOTAL OUTWARD DEBITS AMOUNT (Rs. Million)  \\\n",
       "Date                                                    \n",
       "2015-10-01                               6.906880e+06   \n",
       "2015-11-01                               6.370162e+06   \n",
       "\n",
       "            RECEIVED INWARD CREDITS AMOUNT (Rs. Million)  Total Credt + Debit  \n",
       "Date                                                                           \n",
       "2015-10-01                                  6.906880e+06         1.381376e+07  \n",
       "2015-11-01                                  6.370162e+06         1.274032e+07  "
      ]
     },
     "execution_count": 30,
     "metadata": {},
     "output_type": "execute_result"
    }
   ],
   "source": [
    "grpd1['Total Credt + Debit'] = grpd1.sum(1)\n",
    "grpd1.head(2)"
   ]
  },
  {
   "cell_type": "code",
   "execution_count": 31,
   "metadata": {
    "collapsed": false,
    "scrolled": true
   },
   "outputs": [
    {
     "data": {
      "text/html": [
       "<div>\n",
       "<table border=\"1\" class=\"dataframe\">\n",
       "  <thead>\n",
       "    <tr style=\"text-align: right;\">\n",
       "      <th></th>\n",
       "      <th>TOTAL OUTWARD DEBITS AMOUNT (Rs. Million)</th>\n",
       "      <th>RECEIVED INWARD CREDITS AMOUNT (Rs. Million)</th>\n",
       "      <th>Total Credt + Debit</th>\n",
       "      <th>%change</th>\n",
       "    </tr>\n",
       "    <tr>\n",
       "      <th>Date</th>\n",
       "      <th></th>\n",
       "      <th></th>\n",
       "      <th></th>\n",
       "      <th></th>\n",
       "    </tr>\n",
       "  </thead>\n",
       "  <tbody>\n",
       "    <tr>\n",
       "      <th>2015-10-01</th>\n",
       "      <td>6.906880e+06</td>\n",
       "      <td>6.906880e+06</td>\n",
       "      <td>1.381376e+07</td>\n",
       "      <td>NaN</td>\n",
       "    </tr>\n",
       "    <tr>\n",
       "      <th>2015-11-01</th>\n",
       "      <td>6.370162e+06</td>\n",
       "      <td>6.370162e+06</td>\n",
       "      <td>1.274032e+07</td>\n",
       "      <td>-7.770771</td>\n",
       "    </tr>\n",
       "    <tr>\n",
       "      <th>2015-12-01</th>\n",
       "      <td>8.197209e+06</td>\n",
       "      <td>8.197209e+06</td>\n",
       "      <td>1.639442e+07</td>\n",
       "      <td>28.681323</td>\n",
       "    </tr>\n",
       "  </tbody>\n",
       "</table>\n",
       "</div>"
      ],
      "text/plain": [
       "            TOTAL OUTWARD DEBITS AMOUNT (Rs. Million)  \\\n",
       "Date                                                    \n",
       "2015-10-01                               6.906880e+06   \n",
       "2015-11-01                               6.370162e+06   \n",
       "2015-12-01                               8.197209e+06   \n",
       "\n",
       "            RECEIVED INWARD CREDITS AMOUNT (Rs. Million)  Total Credt + Debit  \\\n",
       "Date                                                                            \n",
       "2015-10-01                                  6.906880e+06         1.381376e+07   \n",
       "2015-11-01                                  6.370162e+06         1.274032e+07   \n",
       "2015-12-01                                  8.197209e+06         1.639442e+07   \n",
       "\n",
       "              %change  \n",
       "Date                   \n",
       "2015-10-01        NaN  \n",
       "2015-11-01  -7.770771  \n",
       "2015-12-01  28.681323  "
      ]
     },
     "execution_count": 31,
     "metadata": {},
     "output_type": "execute_result"
    }
   ],
   "source": [
    "grpd1['%change'] = \\\n",
    "    ((grpd1['Total Credt + Debit']-grpd1['Total Credt + Debit'].shift(1))/grpd1['Total Credt + Debit'].shift(1))*100\n",
    "grpd1.head(3)"
   ]
  },
  {
   "cell_type": "markdown",
   "metadata": {},
   "source": [
    "Just to show pct_change() functions easiness"
   ]
  },
  {
   "cell_type": "code",
   "execution_count": 32,
   "metadata": {
    "collapsed": false,
    "scrolled": false
   },
   "outputs": [
    {
     "data": {
      "text/plain": [
       "Date\n",
       "2015-10-01         NaN\n",
       "2015-11-01   -0.077708\n",
       "2015-12-01    0.286813\n",
       "2016-01-01   -0.135468\n",
       "2016-02-01    0.027072\n",
       "Name: Total Credt + Debit, dtype: float64"
      ]
     },
     "execution_count": 32,
     "metadata": {},
     "output_type": "execute_result"
    }
   ],
   "source": [
    "grpd1_temp = grpd1.copy()\n",
    "grpd1_temp['Total Credt + Debit'].pct_change()[:5]"
   ]
  },
  {
   "cell_type": "markdown",
   "metadata": {},
   "source": [
    "Let me convert this DateTime Index to a Period Index which is similar to DateTime but are more flexible to work on"
   ]
  },
  {
   "cell_type": "code",
   "execution_count": 33,
   "metadata": {
    "collapsed": false
   },
   "outputs": [
    {
     "data": {
      "text/html": [
       "<div>\n",
       "<table border=\"1\" class=\"dataframe\">\n",
       "  <thead>\n",
       "    <tr style=\"text-align: right;\">\n",
       "      <th></th>\n",
       "      <th>TOTAL OUTWARD DEBITS AMOUNT (Rs. Million)</th>\n",
       "      <th>RECEIVED INWARD CREDITS AMOUNT (Rs. Million)</th>\n",
       "      <th>Total Credt + Debit</th>\n",
       "      <th>%change</th>\n",
       "    </tr>\n",
       "    <tr>\n",
       "      <th>Date</th>\n",
       "      <th></th>\n",
       "      <th></th>\n",
       "      <th></th>\n",
       "      <th></th>\n",
       "    </tr>\n",
       "  </thead>\n",
       "  <tbody>\n",
       "    <tr>\n",
       "      <th>2015-10</th>\n",
       "      <td>6.906880e+06</td>\n",
       "      <td>6.906880e+06</td>\n",
       "      <td>1.381376e+07</td>\n",
       "      <td>NaN</td>\n",
       "    </tr>\n",
       "    <tr>\n",
       "      <th>2015-11</th>\n",
       "      <td>6.370162e+06</td>\n",
       "      <td>6.370162e+06</td>\n",
       "      <td>1.274032e+07</td>\n",
       "      <td>-7.770771</td>\n",
       "    </tr>\n",
       "  </tbody>\n",
       "</table>\n",
       "</div>"
      ],
      "text/plain": [
       "         TOTAL OUTWARD DEBITS AMOUNT (Rs. Million)  \\\n",
       "Date                                                 \n",
       "2015-10                               6.906880e+06   \n",
       "2015-11                               6.370162e+06   \n",
       "\n",
       "         RECEIVED INWARD CREDITS AMOUNT (Rs. Million)  Total Credt + Debit  \\\n",
       "Date                                                                         \n",
       "2015-10                                  6.906880e+06         1.381376e+07   \n",
       "2015-11                                  6.370162e+06         1.274032e+07   \n",
       "\n",
       "          %change  \n",
       "Date               \n",
       "2015-10       NaN  \n",
       "2015-11 -7.770771  "
      ]
     },
     "execution_count": 33,
     "metadata": {},
     "output_type": "execute_result"
    }
   ],
   "source": [
    "grpd2 = grpd1.to_period()\n",
    "grpd2.head(2)"
   ]
  },
  {
   "cell_type": "markdown",
   "metadata": {},
   "source": [
    "Now since I have the data ready let me plot \n",
    "\n",
    "1. MoM aggreated(Credit and Debit) Neft transaction\n",
    "2. MoM % change in aggreated(Credit and Debit) Neft transaction"
   ]
  },
  {
   "cell_type": "code",
   "execution_count": 34,
   "metadata": {
    "collapsed": false,
    "scrolled": true
   },
   "outputs": [
    {
     "data": {
      "image/png": "[encoded data removed]",
      "text/plain": [
       "<matplotlib.figure.Figure at 0xabfbf60>"
      ]
     },
     "metadata": {},
     "output_type": "display_data"
    }
   ],
   "source": [
    "ax = grpd2['Total Credt + Debit'].plot(kind='bar',title='MOM Aggregated NEFT - Rs in Million',figsize=(20,5))\n",
    "\n",
    "for idx, label in enumerate(list(grpd2.index)):         \n",
    "    value = np.round(grpd2['Total Credt + Debit'].ix[idx],decimals=2)\n",
    "    ax.annotate(value,(idx, value),xytext=(-20,15),textcoords='offset points')"
   ]
  },
  {
   "cell_type": "markdown",
   "metadata": {},
   "source": [
    "### Inferences\n",
    "\n",
    "\n",
    ">>- We can see a sudden spike in NEFT transactions after Nov 2016, which is an impact of demonetization\n",
    ">>- Dec, Jan and Feb look flat, post a spike after Nov'16 \n",
    ">>- March 2017 has get maximum NEFT transactions in last 15 months. Reasons: End of Financial year, Tax payments etc. But the change between Feb'16 - March'16 and Feb'17 - March'17 looks comparable. Let us see % changes to validate this understanding"
   ]
  },
  {
   "cell_type": "code",
   "execution_count": 35,
   "metadata": {
    "collapsed": false,
    "scrolled": false
   },
   "outputs": [
    {
     "data": {
      "text/plain": [
       "<matplotlib.text.Annotation at 0xac1e2b0>"
      ]
     },
     "execution_count": 35,
     "metadata": {},
     "output_type": "execute_result"
    },
    {
     "data": {
      "image/png": "[encoded data removed]",
      "text/plain": [
       "<matplotlib.figure.Figure at 0xa839f98>"
      ]
     },
     "metadata": {},
     "output_type": "display_data"
    }
   ],
   "source": [
    "ax1 = grpd2['%change'].plot(kind='bar',title='Month on Month % change',figsize=(12,5),color='red')\n",
    "for idx, label in enumerate(list(grpd2.index)):         \n",
    "    value = np.round(grpd2['%change'].ix[idx],decimals=2)\n",
    "    ax1.annotate(value,(idx, value),xytext=(-15,15),textcoords='offset points')\n",
    "\n",
    "x_cord= 13\n",
    "y_cord=grpd2.ix[pd.Period('12/2016',freq='M'),'%change']\n",
    "ax1.annotate('Demonitization',xy=(x_cord,y_cord),\n",
    "           xytext=(0,30),textcoords='offset points',arrowprops=dict(facecolor='black'),horizontalalignment='right')"
   ]
  },
  {
   "cell_type": "markdown",
   "metadata": {},
   "source": [
    "### Inferences\n",
    "\n",
    ">>- %Change beteen Oct-Nov 2017 is in same lines of Oct-Nov 2016 - No effect of demonitisation \n",
    ">>- %Change beteen Nov-Dec 2017 is in same lines of Nov-Dec 2016 - No effect of demonitisation \n",
    ">>- %Change beteen Dec-Jan 2017 is -2% which is much less when compared to Dec-Jan 2016 which was -14% - Possible effect of demonitisation\n",
    ">>- Jan-Feb is more or less flat\n",
    ">>- %Change in Feb-Mar is on the higher side when comapred to 2016 this might be due to cumulative effect(End of Fin year + Demonitisation). \n",
    "\n",
    ">>>Hence we can see a persistant change due to demonitisation. Lets have QoQ look to understand the impact better"
   ]
  },
  {
   "cell_type": "code",
   "execution_count": 36,
   "metadata": {
    "collapsed": false,
    "scrolled": true
   },
   "outputs": [
    {
     "data": {
      "image/png": "[encoded data removed]",
      "text/plain": [
       "<matplotlib.figure.Figure at 0xabfb400>"
      ]
     },
     "metadata": {},
     "output_type": "display_data"
    }
   ],
   "source": [
    "grpd3 = grpd2.resample('Q-MAR').sum()\n",
    "\n",
    "ax = grpd3['Total Credt + Debit'].plot(kind='bar',title='Quaterly Aggregared Payments via NEFT in Millions',figsize=(12,4))\n",
    "for idx, label in enumerate(list(grpd3.index)):         \n",
    "    value = np.round(grpd3['Total Credt + Debit'].ix[idx],decimals=2)\n",
    "    ax.annotate(value/1000000,(idx, value),xytext=(-15,15),textcoords='offset points')"
   ]
  },
  {
   "cell_type": "markdown",
   "metadata": {},
   "source": [
    "See how easily we can resample (Up and Downsample) our TimeSeries data in Pandas. We can observe a spike in 2017Q4 which is huge and this is demonitisation effect. To understand how persistant the effect is, we need to onserve it for next 6 more months and do this analysis again. \n",
    "\n",
    "Below I will try to see %Change QoQ"
   ]
  },
  {
   "cell_type": "code",
   "execution_count": 15,
   "metadata": {
    "collapsed": false
   },
   "outputs": [],
   "source": [
    "grpd3['%change'] = ((grpd3['Total Credt + Debit']-grpd3['Total Credt + Debit'].shift(1))\n",
    "                    /grpd3['Total Credt + Debit'].shift(1))*100"
   ]
  },
  {
   "cell_type": "code",
   "execution_count": 16,
   "metadata": {
    "collapsed": false,
    "scrolled": true
   },
   "outputs": [
    {
     "data": {
      "text/html": [
       "<div>\n",
       "<table border=\"1\" class=\"dataframe\">\n",
       "  <thead>\n",
       "    <tr style=\"text-align: right;\">\n",
       "      <th></th>\n",
       "      <th>TOTAL OUTWARD DEBITS AMOUNT (Rs. Million)</th>\n",
       "      <th>RECEIVED INWARD CREDITS AMOUNT (Rs. Million)</th>\n",
       "      <th>Total Credt + Debit</th>\n",
       "      <th>%change</th>\n",
       "    </tr>\n",
       "  </thead>\n",
       "  <tbody>\n",
       "    <tr>\n",
       "      <th>2016Q3</th>\n",
       "      <td>2.147425e+07</td>\n",
       "      <td>2.147425e+07</td>\n",
       "      <td>4.294850e+07</td>\n",
       "      <td>NaN</td>\n",
       "    </tr>\n",
       "    <tr>\n",
       "      <th>2016Q4</th>\n",
       "      <td>2.459171e+07</td>\n",
       "      <td>2.459171e+07</td>\n",
       "      <td>4.918342e+07</td>\n",
       "      <td>14.517204</td>\n",
       "    </tr>\n",
       "    <tr>\n",
       "      <th>2017Q1</th>\n",
       "      <td>2.487237e+07</td>\n",
       "      <td>2.487237e+07</td>\n",
       "      <td>4.974473e+07</td>\n",
       "      <td>1.141257</td>\n",
       "    </tr>\n",
       "    <tr>\n",
       "      <th>2017Q2</th>\n",
       "      <td>2.678969e+07</td>\n",
       "      <td>2.678969e+07</td>\n",
       "      <td>5.357939e+07</td>\n",
       "      <td>7.708658</td>\n",
       "    </tr>\n",
       "    <tr>\n",
       "      <th>2017Q3</th>\n",
       "      <td>2.985002e+07</td>\n",
       "      <td>2.985002e+07</td>\n",
       "      <td>5.970004e+07</td>\n",
       "      <td>11.423526</td>\n",
       "    </tr>\n",
       "    <tr>\n",
       "      <th>2017Q4</th>\n",
       "      <td>3.852748e+07</td>\n",
       "      <td>3.852749e+07</td>\n",
       "      <td>7.705497e+07</td>\n",
       "      <td>29.070216</td>\n",
       "    </tr>\n",
       "  </tbody>\n",
       "</table>\n",
       "</div>"
      ],
      "text/plain": [
       "        TOTAL OUTWARD DEBITS AMOUNT (Rs. Million)  \\\n",
       "2016Q3                               2.147425e+07   \n",
       "2016Q4                               2.459171e+07   \n",
       "2017Q1                               2.487237e+07   \n",
       "2017Q2                               2.678969e+07   \n",
       "2017Q3                               2.985002e+07   \n",
       "2017Q4                               3.852748e+07   \n",
       "\n",
       "        RECEIVED INWARD CREDITS AMOUNT (Rs. Million)  Total Credt + Debit  \\\n",
       "2016Q3                                  2.147425e+07         4.294850e+07   \n",
       "2016Q4                                  2.459171e+07         4.918342e+07   \n",
       "2017Q1                                  2.487237e+07         4.974473e+07   \n",
       "2017Q2                                  2.678969e+07         5.357939e+07   \n",
       "2017Q3                                  2.985002e+07         5.970004e+07   \n",
       "2017Q4                                  3.852749e+07         7.705497e+07   \n",
       "\n",
       "          %change  \n",
       "2016Q3        NaN  \n",
       "2016Q4  14.517204  \n",
       "2017Q1   1.141257  \n",
       "2017Q2   7.708658  \n",
       "2017Q3  11.423526  \n",
       "2017Q4  29.070216  "
      ]
     },
     "execution_count": 16,
     "metadata": {},
     "output_type": "execute_result"
    }
   ],
   "source": [
    "grpd3"
   ]
  },
  {
   "cell_type": "code",
   "execution_count": 17,
   "metadata": {
    "collapsed": false
   },
   "outputs": [
    {
     "data": {
      "image/png": "[encoded data removed]",
      "text/plain": [
       "<matplotlib.figure.Figure at 0xae35eb8>"
      ]
     },
     "metadata": {},
     "output_type": "display_data"
    }
   ],
   "source": [
    "ax = grpd3['%change'].plot(kind='bar',color='green',title='%Change on Aggregated QoQ')\n",
    "\n",
    "for x,y in enumerate(grpd3['%change'].values):\n",
    "    ax.annotate(round(y,2),xy=(x,y),xytext=(-10,4),textcoords='offset points')"
   ]
  },
  {
   "cell_type": "markdown",
   "metadata": {},
   "source": [
    "### Inference\n",
    "\n",
    ">> Yes we see a +ve change in NEFT transactions, post demonitization, when compared to FY16. Lets keep a watch on how persistant the change is during next 1-2 Quarters</I>"
   ]
  },
  {
   "cell_type": "markdown",
   "metadata": {},
   "source": [
    "## Analysis 2 : Get Scatter for Highest NEFT transactions"
   ]
  },
  {
   "cell_type": "markdown",
   "metadata": {},
   "source": [
    "So what I will be doing next is to see what all banks are performing best in terms of NEFT transactions. Which shows that these banks are top contributers in overall NEFT transactions by volume and value. "
   ]
  },
  {
   "cell_type": "code",
   "execution_count": 37,
   "metadata": {
    "collapsed": false,
    "scrolled": true
   },
   "outputs": [
    {
     "data": {
      "text/html": [
       "<div>\n",
       "<table border=\"1\" class=\"dataframe\">\n",
       "  <thead>\n",
       "    <tr style=\"text-align: right;\">\n",
       "      <th></th>\n",
       "      <th>Sr. No.</th>\n",
       "      <th>BANK</th>\n",
       "      <th>TOTAL OUTWARD DEBITS NO. OF TRANSACTIONS</th>\n",
       "      <th>TOTAL OUTWARD DEBITS AMOUNT (Rs. Million)</th>\n",
       "      <th>RECEIVED INWARD CREDITS NO. OF TRANSACTIONS</th>\n",
       "      <th>RECEIVED INWARD CREDITS AMOUNT (Rs. Million)</th>\n",
       "      <th>Date</th>\n",
       "    </tr>\n",
       "  </thead>\n",
       "  <tbody>\n",
       "    <tr>\n",
       "      <th>NaN</th>\n",
       "      <td>31</td>\n",
       "      <td>CATHOLIC SYRIAN BANK LTD.</td>\n",
       "      <td>140318</td>\n",
       "      <td>9065.082529</td>\n",
       "      <td>145707</td>\n",
       "      <td>9094.832508</td>\n",
       "      <td>2016-12-01</td>\n",
       "    </tr>\n",
       "    <tr>\n",
       "      <th>NaN</th>\n",
       "      <td>63</td>\n",
       "      <td>INDUSTRIAL AND COM BANK OF CHINA LT</td>\n",
       "      <td>171</td>\n",
       "      <td>21.680278</td>\n",
       "      <td>76</td>\n",
       "      <td>214.653665</td>\n",
       "      <td>2016-05-01</td>\n",
       "    </tr>\n",
       "    <tr>\n",
       "      <th>NaN</th>\n",
       "      <td>46</td>\n",
       "      <td>DHANLAXMI BANK LTD</td>\n",
       "      <td>117097</td>\n",
       "      <td>4667.791604</td>\n",
       "      <td>103445</td>\n",
       "      <td>5409.723190</td>\n",
       "      <td>2016-01-01</td>\n",
       "    </tr>\n",
       "  </tbody>\n",
       "</table>\n",
       "</div>"
      ],
      "text/plain": [
       "     Sr. No.                                 BANK  \\\n",
       "NaN       31            CATHOLIC SYRIAN BANK LTD.   \n",
       "NaN       63  INDUSTRIAL AND COM BANK OF CHINA LT   \n",
       "NaN       46                   DHANLAXMI BANK LTD   \n",
       "\n",
       "     TOTAL OUTWARD DEBITS NO. OF TRANSACTIONS  \\\n",
       "NaN                                    140318   \n",
       "NaN                                       171   \n",
       "NaN                                    117097   \n",
       "\n",
       "     TOTAL OUTWARD DEBITS AMOUNT (Rs. Million)  \\\n",
       "NaN                                9065.082529   \n",
       "NaN                                  21.680278   \n",
       "NaN                                4667.791604   \n",
       "\n",
       "     RECEIVED INWARD CREDITS NO. OF TRANSACTIONS  \\\n",
       "NaN                                       145707   \n",
       "NaN                                           76   \n",
       "NaN                                       103445   \n",
       "\n",
       "     RECEIVED INWARD CREDITS AMOUNT (Rs. Million)       Date  \n",
       "NaN                                   9094.832508 2016-12-01  \n",
       "NaN                                    214.653665 2016-05-01  \n",
       "NaN                                   5409.723190 2016-01-01  "
      ]
     },
     "execution_count": 37,
     "metadata": {},
     "output_type": "execute_result"
    }
   ],
   "source": [
    "master_df.sample(3)"
   ]
  },
  {
   "cell_type": "markdown",
   "metadata": {},
   "source": [
    "I will now set the Date column as my Index for further processing "
   ]
  },
  {
   "cell_type": "code",
   "execution_count": 38,
   "metadata": {
    "collapsed": true
   },
   "outputs": [],
   "source": [
    "master_df2 = master_df.set_index('Date')"
   ]
  },
  {
   "cell_type": "code",
   "execution_count": 39,
   "metadata": {
    "collapsed": false,
    "scrolled": true
   },
   "outputs": [
    {
     "data": {
      "text/html": [
       "<div>\n",
       "<table border=\"1\" class=\"dataframe\">\n",
       "  <thead>\n",
       "    <tr style=\"text-align: right;\">\n",
       "      <th></th>\n",
       "      <th>Sr. No.</th>\n",
       "      <th>BANK</th>\n",
       "      <th>TOTAL OUTWARD DEBITS NO. OF TRANSACTIONS</th>\n",
       "      <th>TOTAL OUTWARD DEBITS AMOUNT (Rs. Million)</th>\n",
       "      <th>RECEIVED INWARD CREDITS NO. OF TRANSACTIONS</th>\n",
       "      <th>RECEIVED INWARD CREDITS AMOUNT (Rs. Million)</th>\n",
       "    </tr>\n",
       "    <tr>\n",
       "      <th>Date</th>\n",
       "      <th></th>\n",
       "      <th></th>\n",
       "      <th></th>\n",
       "      <th></th>\n",
       "      <th></th>\n",
       "      <th></th>\n",
       "    </tr>\n",
       "  </thead>\n",
       "  <tbody>\n",
       "    <tr>\n",
       "      <th>2015-10-01</th>\n",
       "      <td>1</td>\n",
       "      <td>ABHYUDAYA CO-OP BANK LTD</td>\n",
       "      <td>32722</td>\n",
       "      <td>2059.047492</td>\n",
       "      <td>88693</td>\n",
       "      <td>3137.749554</td>\n",
       "    </tr>\n",
       "    <tr>\n",
       "      <th>2015-10-01</th>\n",
       "      <td>2</td>\n",
       "      <td>ABU DHABI COMMERCIAL BANK</td>\n",
       "      <td>2217</td>\n",
       "      <td>553.107943</td>\n",
       "      <td>620</td>\n",
       "      <td>962.400814</td>\n",
       "    </tr>\n",
       "  </tbody>\n",
       "</table>\n",
       "</div>"
      ],
      "text/plain": [
       "            Sr. No.                       BANK  \\\n",
       "Date                                             \n",
       "2015-10-01        1   ABHYUDAYA CO-OP BANK LTD   \n",
       "2015-10-01        2  ABU DHABI COMMERCIAL BANK   \n",
       "\n",
       "            TOTAL OUTWARD DEBITS NO. OF TRANSACTIONS  \\\n",
       "Date                                                   \n",
       "2015-10-01                                     32722   \n",
       "2015-10-01                                      2217   \n",
       "\n",
       "            TOTAL OUTWARD DEBITS AMOUNT (Rs. Million)  \\\n",
       "Date                                                    \n",
       "2015-10-01                                2059.047492   \n",
       "2015-10-01                                 553.107943   \n",
       "\n",
       "            RECEIVED INWARD CREDITS NO. OF TRANSACTIONS  \\\n",
       "Date                                                      \n",
       "2015-10-01                                        88693   \n",
       "2015-10-01                                          620   \n",
       "\n",
       "            RECEIVED INWARD CREDITS AMOUNT (Rs. Million)  \n",
       "Date                                                      \n",
       "2015-10-01                                   3137.749554  \n",
       "2015-10-01                                    962.400814  "
      ]
     },
     "execution_count": 39,
     "metadata": {},
     "output_type": "execute_result"
    }
   ],
   "source": [
    "master_df2.head(2)"
   ]
  },
  {
   "cell_type": "markdown",
   "metadata": {},
   "source": [
    "To get the top best performer banks in deigital Neft transactions, I would have to do same aggregation on Banks across all the months I have. Later we will drill down MoM if required"
   ]
  },
  {
   "cell_type": "code",
   "execution_count": 40,
   "metadata": {
    "collapsed": false,
    "scrolled": true
   },
   "outputs": [
    {
     "data": {
      "text/html": [
       "<div>\n",
       "<table border=\"1\" class=\"dataframe\">\n",
       "  <thead>\n",
       "    <tr style=\"text-align: right;\">\n",
       "      <th></th>\n",
       "      <th>Sr. No.</th>\n",
       "      <th>TOTAL OUTWARD DEBITS NO. OF TRANSACTIONS</th>\n",
       "      <th>TOTAL OUTWARD DEBITS AMOUNT (Rs. Million)</th>\n",
       "      <th>RECEIVED INWARD CREDITS NO. OF TRANSACTIONS</th>\n",
       "      <th>RECEIVED INWARD CREDITS AMOUNT (Rs. Million)</th>\n",
       "    </tr>\n",
       "    <tr>\n",
       "      <th>BANK</th>\n",
       "      <th></th>\n",
       "      <th></th>\n",
       "      <th></th>\n",
       "      <th></th>\n",
       "      <th></th>\n",
       "    </tr>\n",
       "  </thead>\n",
       "  <tbody>\n",
       "    <tr>\n",
       "      <th>ABHYUDAYA CO-OP BANK LTD</th>\n",
       "      <td>18</td>\n",
       "      <td>833594</td>\n",
       "      <td>46052.736420</td>\n",
       "      <td>2067264</td>\n",
       "      <td>71887.286985</td>\n",
       "    </tr>\n",
       "    <tr>\n",
       "      <th>ABU DHABI COMMERCIAL BANK</th>\n",
       "      <td>36</td>\n",
       "      <td>43437</td>\n",
       "      <td>25764.748361</td>\n",
       "      <td>12276</td>\n",
       "      <td>12363.176441</td>\n",
       "    </tr>\n",
       "    <tr>\n",
       "      <th>AHMEDABAD MERCANTILE COOP BANK</th>\n",
       "      <td>54</td>\n",
       "      <td>112781</td>\n",
       "      <td>9143.555067</td>\n",
       "      <td>299445</td>\n",
       "      <td>18787.066448</td>\n",
       "    </tr>\n",
       "  </tbody>\n",
       "</table>\n",
       "</div>"
      ],
      "text/plain": [
       "                                Sr. No.  \\\n",
       "BANK                                      \n",
       "ABHYUDAYA CO-OP BANK LTD             18   \n",
       "ABU DHABI COMMERCIAL BANK            36   \n",
       "AHMEDABAD MERCANTILE COOP BANK       54   \n",
       "\n",
       "                                TOTAL OUTWARD DEBITS NO. OF TRANSACTIONS  \\\n",
       "BANK                                                                       \n",
       "ABHYUDAYA CO-OP BANK LTD                                          833594   \n",
       "ABU DHABI COMMERCIAL BANK                                          43437   \n",
       "AHMEDABAD MERCANTILE COOP BANK                                    112781   \n",
       "\n",
       "                                TOTAL OUTWARD DEBITS AMOUNT (Rs. Million)  \\\n",
       "BANK                                                                        \n",
       "ABHYUDAYA CO-OP BANK LTD                                     46052.736420   \n",
       "ABU DHABI COMMERCIAL BANK                                    25764.748361   \n",
       "AHMEDABAD MERCANTILE COOP BANK                                9143.555067   \n",
       "\n",
       "                                RECEIVED INWARD CREDITS NO. OF TRANSACTIONS  \\\n",
       "BANK                                                                          \n",
       "ABHYUDAYA CO-OP BANK LTD                                            2067264   \n",
       "ABU DHABI COMMERCIAL BANK                                             12276   \n",
       "AHMEDABAD MERCANTILE COOP BANK                                       299445   \n",
       "\n",
       "                                RECEIVED INWARD CREDITS AMOUNT (Rs. Million)  \n",
       "BANK                                                                          \n",
       "ABHYUDAYA CO-OP BANK LTD                                        71887.286985  \n",
       "ABU DHABI COMMERCIAL BANK                                       12363.176441  \n",
       "AHMEDABAD MERCANTILE COOP BANK                                  18787.066448  "
      ]
     },
     "execution_count": 40,
     "metadata": {},
     "output_type": "execute_result"
    }
   ],
   "source": [
    "grpd11 = master_df2.groupby('BANK')\n",
    "grpd12 = grpd11.sum()\n",
    "grpd12.head(3)"
   ]
  },
  {
   "cell_type": "markdown",
   "metadata": {},
   "source": [
    "Let me get the Total - Credit + Debit for Volume (Number of Transactions) and Value of Transactions"
   ]
  },
  {
   "cell_type": "code",
   "execution_count": 41,
   "metadata": {
    "collapsed": true
   },
   "outputs": [],
   "source": [
    "# To get Aggregated Value of Transactions \n",
    "grpd12['Total Credit + Debit Amt'] = grpd12['TOTAL OUTWARD DEBITS AMOUNT (Rs. Million)'] \\\n",
    "                    + grpd12['RECEIVED INWARD CREDITS AMOUNT (Rs. Million)']\n",
    "\n",
    "# To get Aggregated Number of Transactions \n",
    "grpd12['Total Credit + Debit Txns'] = grpd12['TOTAL OUTWARD DEBITS NO. OF TRANSACTIONS'] \\\n",
    "                    + grpd12['RECEIVED INWARD CREDITS NO. OF TRANSACTIONS']"
   ]
  },
  {
   "cell_type": "code",
   "execution_count": 42,
   "metadata": {
    "collapsed": false,
    "scrolled": true
   },
   "outputs": [
    {
     "data": {
      "image/png": "[encoded data removed]",
      "text/plain": [
       "<matplotlib.figure.Figure at 0xb43b358>"
      ]
     },
     "metadata": {},
     "output_type": "display_data"
    }
   ],
   "source": [
    "ax = grpd12.sort_values(by='Total Credit + Debit Amt',ascending=False).head(6)\\\n",
    "            .plot(kind='scatter',x='Total Credit + Debit Txns',y='Total Credit + Debit Amt',\\\n",
    "                              figsize=(10,5),title='Leader Banks')\n",
    "\n",
    "grpd13 = grpd12.sort_values(by='Total Credit + Debit Amt',ascending=False)\\\n",
    "        [['Total Credit + Debit Amt','Total Credit + Debit Txns']].head(6)\n",
    "\n",
    "for x,y in enumerate(grpd13.values):    \n",
    "    ax.annotate(grpd13.index.values[x],xy=(y[1],y[0]),xytext=(3,3),textcoords='offset points')"
   ]
  },
  {
   "cell_type": "markdown",
   "metadata": {},
   "source": [
    "### Inference \n",
    "\n",
    ">> So we see the <B>Leader Banks</B> here. SBI was excpected to be a leader in # of transaction due to its huge customer base but I wasn't expecting HDFC next to SBI in terms of Value and volume. ICICI and AXIS stay close. \n",
    "\n",
    "Let me now drill down and see the trsanctions value for SBI and HDFC to understand the pattern. For this I will first filter my DataFrame to have only SBI and HDFC records. For this I will create a new DataFrame named - sbi_hdfc and plot MoM Aggregated Value of NEFT Txns between these 2 banks"
   ]
  },
  {
   "cell_type": "code",
   "execution_count": 43,
   "metadata": {
    "collapsed": false
   },
   "outputs": [],
   "source": [
    "sbi_hdfc = master_df[(master_df['BANK']=='STATE BANK OF INDIA') | (master_df['BANK']=='HDFC BANK')].copy()\n",
    "\n",
    "sbi_hdfc['Total Cr + Dr'] = sbi_hdfc['TOTAL OUTWARD DEBITS AMOUNT (Rs. Million)']\\\n",
    "                        +sbi_hdfc['RECEIVED INWARD CREDITS AMOUNT (Rs. Million)']"
   ]
  },
  {
   "cell_type": "code",
   "execution_count": 44,
   "metadata": {
    "collapsed": false,
    "scrolled": true
   },
   "outputs": [
    {
     "data": {
      "text/plain": [
       "<matplotlib.axes._subplots.AxesSubplot at 0xb6e7e10>"
      ]
     },
     "execution_count": 44,
     "metadata": {},
     "output_type": "execute_result"
    },
    {
     "data": {
      "image/png": "[encoded data removed]",
      "text/plain": [
       "<matplotlib.figure.Figure at 0xb2d7fd0>"
      ]
     },
     "metadata": {},
     "output_type": "display_data"
    }
   ],
   "source": [
    "sbi_hdfc.pivot('Date','BANK','Total Cr + Dr').plot(kind='bar',figsize=(10,4))"
   ]
  },
  {
   "cell_type": "markdown",
   "metadata": {},
   "source": [
    "### Inference:  \n",
    "\n",
    ">> <B>Well this is bit of a Surprise !! HDFC has started leading SBI in terms of Aggregated Value of NEFT transactions after Jan'17. So if we talk about 2017 only, HDFC is the leader in terms of NEFT Txn Value. </B>"
   ]
  },
  {
   "cell_type": "markdown",
   "metadata": {
    "collapsed": false
   },
   "source": [
    "## Analysis 3: Mobile Banks - Let us see the MoM trend for Airtel Mobile Bank. I am expecting a spike post demonitisation !!"
   ]
  },
  {
   "cell_type": "code",
   "execution_count": 48,
   "metadata": {
    "collapsed": false,
    "scrolled": false
   },
   "outputs": [
    {
     "data": {
      "image/png": "[encoded data removed]",
      "text/plain": [
       "<matplotlib.figure.Figure at 0xcc2a320>"
      ]
     },
     "metadata": {},
     "output_type": "display_data"
    }
   ],
   "source": [
    "ax = master_df2[master_df2['BANK']=='AIRTEL PAYMENTS BANK LIMITED'][['TOTAL OUTWARD DEBITS AMOUNT (Rs. Million)']]\\\n",
    "                .sort_index().plot(kind='bar',figsize=(7,4),title='Rs in Millions')\n",
    "    \n",
    "for x,y in enumerate(master_df2[master_df2['BANK']=='AIRTEL PAYMENTS BANK LIMITED'][['TOTAL OUTWARD DEBITS AMOUNT (Rs. Million)']]\\\n",
    "                .sort_index().values):\n",
    "    ax.annotate(round(y,2),xy=(x,y),xytext=(-10,4),textcoords='offset points')"
   ]
  },
  {
   "cell_type": "markdown",
   "metadata": {},
   "source": [
    "### Inference : \n",
    "\n",
    ">>Yes as expected we are seeing monthly Debit transaction value for Airtel Mobile bank is shooting from less than a million to 600 million, post demonetisation "
   ]
  },
  {
   "cell_type": "markdown",
   "metadata": {},
   "source": [
    "## <a href=\"Card_Analysis.html\" title=\"Card Analysis\">Click here to see ATM and POS Analysis</a>"
   ]
  }
 ],
 "metadata": {
  "kernelspec": {
   "display_name": "Python 2",
   "language": "python",
   "name": "python2"
  },
  "language_info": {
   "codemirror_mode": {
    "name": "ipython",
    "version": 2
   },
   "file_extension": ".py",
   "mimetype": "text/x-python",
   "name": "python",
   "nbconvert_exporter": "python",
   "pygments_lexer": "ipython2",
   "version": "2.7.11"
  }
 },
 "nbformat": 4,
 "nbformat_minor": 0
}
